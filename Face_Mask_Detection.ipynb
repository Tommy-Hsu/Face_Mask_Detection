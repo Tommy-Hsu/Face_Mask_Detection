{
  "cells": [
    {
      "cell_type": "code",
      "execution_count": 1,
      "metadata": {
        "colab": {
          "base_uri": "https://localhost:8080/"
        },
        "id": "aP6AB_ViHPqb",
        "outputId": "31b29205-7ad5-41a5-f088-7859528fb15a"
      },
      "outputs": [
        {
          "output_type": "stream",
          "name": "stdout",
          "text": [
            "Cloning into 'Face-Mask-Detection'...\n",
            "remote: Enumerating objects: 4590, done.\u001b[K\n",
            "remote: Total 4590 (delta 0), reused 0 (delta 0), pack-reused 4590\u001b[K\n",
            "Receiving objects: 100% (4590/4590), 186.72 MiB | 15.16 MiB/s, done.\n",
            "Resolving deltas: 100% (271/271), done.\n",
            "Checking out files: 100% (4155/4155), done.\n"
          ]
        }
      ],
      "source": [
        "! git clone https://github.com/chandrikadeb7/Face-Mask-Detection.git"
      ]
    },
    {
      "cell_type": "code",
      "execution_count": 2,
      "metadata": {
        "colab": {
          "base_uri": "https://localhost:8080/"
        },
        "id": "ylKYexMMIuHo",
        "outputId": "f203d43e-7866-4d35-a0fc-1f888ea35a53"
      },
      "outputs": [
        {
          "output_type": "stream",
          "name": "stdout",
          "text": [
            "/content/Face-Mask-Detection\n"
          ]
        }
      ],
      "source": [
        "cd Face-Mask-Detection"
      ]
    },
    {
      "cell_type": "code",
      "execution_count": 3,
      "metadata": {
        "colab": {
          "base_uri": "https://localhost:8080/"
        },
        "id": "v6sE2TmfJG1t",
        "outputId": "3c586f9f-4890-45f6-f17d-e7db0a1f0298"
      },
      "outputs": [
        {
          "output_type": "stream",
          "name": "stdout",
          "text": [
            "total 11424\n",
            "drwxr-xr-x 13 root root     4096 Sep 25 06:41  \u001b[0m\u001b[01;34m.\u001b[0m/\n",
            "drwxr-xr-x  1 root root     4096 Sep 25 06:41  \u001b[01;34m..\u001b[0m/\n",
            "-rw-r--r--  1 root root     5189 Sep 25 06:41  app.py\n",
            "-rw-r--r--  1 root root      488 Sep 25 06:41  CITATION.cff\n",
            "-rw-r--r--  1 root root     3392 Sep 25 06:41  CODE_OF_CONDUCT.md\n",
            "-rw-r--r--  1 root root       29 Sep 25 06:41  _config.yml\n",
            "-rw-r--r--  1 root root     2068 Sep 25 06:41  CONTRIBUTING.md\n",
            "drwxr-xr-x  2 root root     4096 Sep 25 06:41  \u001b[01;34mcss\u001b[0m/\n",
            "drwxr-xr-x  4 root root     4096 Sep 25 06:41  \u001b[01;34mdataset\u001b[0m/\n",
            "-rw-r--r--  1 root root     3668 Sep 25 06:41  detect_mask_image.py\n",
            "-rw-r--r--  1 root root     4944 Sep 25 06:41  detect_mask_video.py\n",
            "-rw-r--r--  1 root root     8196 Sep 25 06:41  .DS_Store\n",
            "drwxr-xr-x  2 root root     4096 Sep 25 06:41  \u001b[01;34mface_detector\u001b[0m/\n",
            "drwxr-xr-x  8 root root     4096 Sep 25 06:41  \u001b[01;34m.git\u001b[0m/\n",
            "drwxr-xr-x  4 root root     4096 Sep 25 06:41  \u001b[01;34m.github\u001b[0m/\n",
            "-rw-r--r--  1 root root       35 Sep 25 06:41  .gitignore\n",
            "drwxr-xr-x  2 root root     4096 Sep 25 06:41  \u001b[01;34mimages\u001b[0m/\n",
            "drwxr-xr-x  3 root root     4096 Sep 25 06:41  \u001b[01;34mincep_v3_mask_model\u001b[0m/\n",
            "-rw-r--r--  1 root root     1070 Sep 25 06:41  LICENSE\n",
            "drwxr-xr-x  2 root root     4096 Sep 25 06:41  \u001b[01;34mLogo\u001b[0m/\n",
            "-rw-r--r--  1 root root 11490448 Sep 25 06:41  mask_detector.model\n",
            "-rw-r--r--  1 root root      958 Sep 25 06:41  model2onnx.py\n",
            "-rw-r--r--  1 root root    38096 Sep 25 06:41  plot.png\n",
            "drwxr-xr-x  2 root root     4096 Sep 25 06:41  \u001b[01;34m__pycache__\u001b[0m/\n",
            "drwxr-xr-x  2 root root     4096 Sep 25 06:41  \u001b[01;34mReadme_images\u001b[0m/\n",
            "-rw-r--r--  1 root root    13172 Sep 25 06:41 'README - Korean.md'\n",
            "-rw-r--r--  1 root root    11424 Sep 25 06:41  README.md\n",
            "-rw-r--r--  1 root root      213 Sep 25 06:41  requirements.txt\n",
            "drwxr-xr-x  3 root root     4096 Sep 25 06:41  \u001b[01;34mResNet50_v2\u001b[0m/\n",
            "-rw-r--r--  1 root root     2072 Sep 25 06:41  search.py\n",
            "-rw-r--r--  1 root root     5299 Sep 25 06:41  train_mask_detector.py\n",
            "-rw-r--r--  1 root root     1428 Sep 25 06:41  Windows_guide.md\n"
          ]
        }
      ],
      "source": [
        "ls -al\n"
      ]
    },
    {
      "cell_type": "code",
      "execution_count": 4,
      "metadata": {
        "colab": {
          "base_uri": "https://localhost:8080/"
        },
        "id": "CHURZUJtJY0z",
        "outputId": "ba05a006-b872-427c-f983-08e99b1959db"
      },
      "outputs": [
        {
          "output_type": "stream",
          "name": "stdout",
          "text": [
            "[INFO] loading images...\n",
            "/usr/local/lib/python3.7/dist-packages/PIL/Image.py:960: UserWarning: Palette images with Transparency expressed in bytes should be converted to RGBA images\n",
            "  \"Palette images with Transparency expressed in bytes should be \"\n",
            "tcmalloc: large alloc 2463842304 bytes == 0x9d03e000 @  0x7fe2bcd001e7 0x7fe2866350ce 0x7fe286691715 0x7fe286691d1b 0x7fe286732333 0x58eb9c 0x51babb 0x5b41c5 0x604133 0x606e06 0x606ecc 0x609aa6 0x64d332 0x64d4de 0x7fe2bc8fdc87 0x5b561a\n",
            "tcmalloc: large alloc 1970716672 bytes == 0x12fdf2000 @  0x7fe2bcd001e7 0x7fe2866350ce 0x7fe28668bcf5 0x7fe28668be08 0x7fe28671e0b9 0x7fe286720a25 0x4e6e19 0x517c77 0x5b41c5 0x58f49e 0x51837f 0x5b4a3e 0x58f49e 0x51740e 0x4cfb74 0x4deed4 0x59f9b4 0x5a2484 0x58ff66 0x51b180 0x5b4a3e 0x58f49e 0x51837f 0x5b41c5 0x604133 0x606e06 0x606ecc 0x609aa6 0x64d332 0x64d4de 0x7fe2bc8fdc87\n",
            "WARNING:tensorflow:`input_shape` is undefined or non-square, or `rows` is not in [96, 128, 160, 192, 224]. Weights for input shape (224, 224) will be loaded as the default.\n",
            "WARNING:tensorflow:`input_shape` is undefined or non-square, or `rows` is not in [96, 128, 160, 192, 224]. Weights for input shape (224, 224) will be loaded as the default.\n",
            "2022-09-25 06:42:15.948777: W tensorflow/core/common_runtime/gpu/gpu_bfc_allocator.cc:39] Overriding allow_growth setting because the TF_FORCE_GPU_ALLOW_GROWTH environment variable is set. Original config value was 0.\n",
            "Downloading data from https://storage.googleapis.com/tensorflow/keras-applications/mobilenet_v2/mobilenet_v2_weights_tf_dim_ordering_tf_kernels_1.0_224_no_top.h5\n",
            "9412608/9406464 [==============================] - 0s 0us/step\n",
            "9420800/9406464 [==============================] - 0s 0us/step\n",
            "[INFO] compiling model...\n",
            "/usr/local/lib/python3.7/dist-packages/keras/optimizer_v2/adam.py:105: UserWarning: The `lr` argument is deprecated, use `learning_rate` instead.\n",
            "  super(Adam, self).__init__(name, **kwargs)\n",
            "[INFO] training head...\n",
            "Epoch 1/20\n",
            "102/102 [==============================] - ETA: 0s - loss: 0.3951 - accuracy: 0.85312022-09-25 06:43:01.349250: W tensorflow/core/framework/cpu_allocator_impl.cc:82] Allocation of 493129728 exceeds 10% of free system memory.\n",
            "102/102 [==============================] - 47s 327ms/step - loss: 0.3951 - accuracy: 0.8531 - val_loss: 0.1624 - val_accuracy: 0.9573\n",
            "Epoch 2/20\n",
            "102/102 [==============================] - 32s 310ms/step - loss: 0.1444 - accuracy: 0.9685 - val_loss: 0.1008 - val_accuracy: 0.9670\n",
            "Epoch 3/20\n",
            "102/102 [==============================] - 32s 310ms/step - loss: 0.1024 - accuracy: 0.9707 - val_loss: 0.0804 - val_accuracy: 0.9731\n",
            "Epoch 4/20\n",
            "102/102 [==============================] - 32s 314ms/step - loss: 0.0796 - accuracy: 0.9756 - val_loss: 0.0703 - val_accuracy: 0.9707\n",
            "Epoch 5/20\n",
            "102/102 [==============================] - 32s 312ms/step - loss: 0.0701 - accuracy: 0.9793 - val_loss: 0.0666 - val_accuracy: 0.9768\n",
            "Epoch 6/20\n",
            "102/102 [==============================] - 32s 311ms/step - loss: 0.0636 - accuracy: 0.9824 - val_loss: 0.0685 - val_accuracy: 0.9744\n",
            "Epoch 7/20\n",
            "102/102 [==============================] - 32s 311ms/step - loss: 0.0581 - accuracy: 0.9827 - val_loss: 0.0575 - val_accuracy: 0.9768\n",
            "Epoch 8/20\n",
            "102/102 [==============================] - 32s 309ms/step - loss: 0.0528 - accuracy: 0.9852 - val_loss: 0.0558 - val_accuracy: 0.9768\n",
            "Epoch 9/20\n",
            "102/102 [==============================] - 32s 310ms/step - loss: 0.0468 - accuracy: 0.9852 - val_loss: 0.0615 - val_accuracy: 0.9768\n",
            "Epoch 10/20\n",
            "102/102 [==============================] - 32s 310ms/step - loss: 0.0445 - accuracy: 0.9858 - val_loss: 0.0530 - val_accuracy: 0.9780\n",
            "Epoch 11/20\n",
            "102/102 [==============================] - 32s 311ms/step - loss: 0.0421 - accuracy: 0.9870 - val_loss: 0.0503 - val_accuracy: 0.9768\n",
            "Epoch 12/20\n",
            "102/102 [==============================] - 32s 310ms/step - loss: 0.0400 - accuracy: 0.9898 - val_loss: 0.0526 - val_accuracy: 0.9792\n",
            "Epoch 13/20\n",
            "102/102 [==============================] - 32s 311ms/step - loss: 0.0410 - accuracy: 0.9886 - val_loss: 0.0535 - val_accuracy: 0.9780\n",
            "Epoch 14/20\n",
            "102/102 [==============================] - 32s 312ms/step - loss: 0.0358 - accuracy: 0.9895 - val_loss: 0.0655 - val_accuracy: 0.9731\n",
            "Epoch 15/20\n",
            "102/102 [==============================] - 32s 310ms/step - loss: 0.0435 - accuracy: 0.9858 - val_loss: 0.0489 - val_accuracy: 0.9817\n",
            "Epoch 16/20\n",
            "102/102 [==============================] - 32s 313ms/step - loss: 0.0290 - accuracy: 0.9901 - val_loss: 0.0562 - val_accuracy: 0.9805\n",
            "Epoch 17/20\n",
            "102/102 [==============================] - 32s 312ms/step - loss: 0.0303 - accuracy: 0.9920 - val_loss: 0.0447 - val_accuracy: 0.9866\n",
            "Epoch 18/20\n",
            "102/102 [==============================] - 32s 311ms/step - loss: 0.0332 - accuracy: 0.9889 - val_loss: 0.0487 - val_accuracy: 0.9817\n",
            "Epoch 19/20\n",
            "102/102 [==============================] - 32s 311ms/step - loss: 0.0294 - accuracy: 0.9911 - val_loss: 0.0510 - val_accuracy: 0.9817\n",
            "Epoch 20/20\n",
            "102/102 [==============================] - 32s 312ms/step - loss: 0.0257 - accuracy: 0.9929 - val_loss: 0.0482 - val_accuracy: 0.9829\n",
            "[INFO] evaluating network...\n",
            "2022-09-25 06:54:03.352469: W tensorflow/core/framework/cpu_allocator_impl.cc:82] Allocation of 493129728 exceeds 10% of free system memory.\n",
            "              precision    recall  f1-score   support\n",
            "\n",
            "   with_mask       0.97      1.00      0.98       433\n",
            "without_mask       0.99      0.97      0.98       386\n",
            "\n",
            "    accuracy                           0.98       819\n",
            "   macro avg       0.98      0.98      0.98       819\n",
            "weighted avg       0.98      0.98      0.98       819\n",
            "\n",
            "[INFO] saving mask detector model...\n"
          ]
        }
      ],
      "source": [
        "!python train_mask_detector.py --dataset dataset"
      ]
    },
    {
      "cell_type": "code",
      "execution_count": 53,
      "metadata": {
        "colab": {
          "base_uri": "https://localhost:8080/"
        },
        "id": "KVBX-MTDJJlc",
        "outputId": "b60f304a-285f-423f-8115-b93e7f505f47"
      },
      "outputs": [
        {
          "output_type": "stream",
          "name": "stdout",
          "text": [
            "[INFO] loading face detector model...\n",
            "[INFO] loading face mask detector model...\n",
            "2022-09-25 07:36:11.961311: W tensorflow/core/common_runtime/gpu/gpu_bfc_allocator.cc:39] Overriding allow_growth setting because the TF_FORCE_GPU_ALLOW_GROWTH environment variable is set. Original config value was 0.\n",
            "[INFO] computing face detections...\n"
          ]
        }
      ],
      "source": [
        "!python detect_mask_image.py --image /content/Face-Mask-Detection/test/LINE_ALBUM_test_220925_35.jpg"
      ]
    },
    {
      "cell_type": "code",
      "source": [
        "!zip -r /content/file.zip /content/Face-Mask-Detection/test_result"
      ],
      "metadata": {
        "colab": {
          "base_uri": "https://localhost:8080/"
        },
        "id": "0WPxkr4Tk4WA",
        "outputId": "1da2afa5-41b0-45f8-eb0e-7afe599ea7cf"
      },
      "execution_count": 54,
      "outputs": [
        {
          "output_type": "stream",
          "name": "stdout",
          "text": [
            "  adding: content/Face-Mask-Detection/test_result/ (stored 0%)\n",
            "  adding: content/Face-Mask-Detection/test_result/result_28.jpg (deflated 2%)\n",
            "  adding: content/Face-Mask-Detection/test_result/result_14.jpg (deflated 2%)\n",
            "  adding: content/Face-Mask-Detection/test_result/result_35.jpg (deflated 2%)\n",
            "  adding: content/Face-Mask-Detection/test_result/result_31.jpg (deflated 2%)\n",
            "  adding: content/Face-Mask-Detection/test_result/result_7.jpg (deflated 2%)\n",
            "  adding: content/Face-Mask-Detection/test_result/result_13.jpg (deflated 2%)\n",
            "  adding: content/Face-Mask-Detection/test_result/result_11.jpg (deflated 2%)\n",
            "  adding: content/Face-Mask-Detection/test_result/result_20.jpg (deflated 2%)\n",
            "  adding: content/Face-Mask-Detection/test_result/result_6.jpg (deflated 2%)\n",
            "  adding: content/Face-Mask-Detection/test_result/result_0.jpg (deflated 2%)\n",
            "  adding: content/Face-Mask-Detection/test_result/result_24.jpg (deflated 2%)\n",
            "  adding: content/Face-Mask-Detection/test_result/result_10.jpg (deflated 2%)\n",
            "  adding: content/Face-Mask-Detection/test_result/result_32.jpg (deflated 2%)\n",
            "  adding: content/Face-Mask-Detection/test_result/result_3.jpg (deflated 2%)\n",
            "  adding: content/Face-Mask-Detection/test_result/result_1.jpg (deflated 2%)\n",
            "  adding: content/Face-Mask-Detection/test_result/result_23.jpg (deflated 2%)\n",
            "  adding: content/Face-Mask-Detection/test_result/result_34.jpg (deflated 2%)\n",
            "  adding: content/Face-Mask-Detection/test_result/result_9.jpg (deflated 2%)\n",
            "  adding: content/Face-Mask-Detection/test_result/result_2.jpg (deflated 2%)\n",
            "  adding: content/Face-Mask-Detection/test_result/result_21.jpg (deflated 2%)\n",
            "  adding: content/Face-Mask-Detection/test_result/result_18.jpg (deflated 2%)\n",
            "  adding: content/Face-Mask-Detection/test_result/result_15.jpg (deflated 2%)\n",
            "  adding: content/Face-Mask-Detection/test_result/result_4.jpg (deflated 2%)\n",
            "  adding: content/Face-Mask-Detection/test_result/result_12.jpg (deflated 2%)\n",
            "  adding: content/Face-Mask-Detection/test_result/result_27.jpg (deflated 2%)\n",
            "  adding: content/Face-Mask-Detection/test_result/result_25.jpg (deflated 2%)\n",
            "  adding: content/Face-Mask-Detection/test_result/result_26.jpg (deflated 2%)\n",
            "  adding: content/Face-Mask-Detection/test_result/result_29.jpg (deflated 2%)\n",
            "  adding: content/Face-Mask-Detection/test_result/result_33.jpg (deflated 2%)\n",
            "  adding: content/Face-Mask-Detection/test_result/result_16.jpg (deflated 2%)\n",
            "  adding: content/Face-Mask-Detection/test_result/result_17.jpg (deflated 2%)\n",
            "  adding: content/Face-Mask-Detection/test_result/result_8.jpg (deflated 2%)\n",
            "  adding: content/Face-Mask-Detection/test_result/result_5.jpg (deflated 2%)\n"
          ]
        }
      ]
    }
  ],
  "metadata": {
    "accelerator": "GPU",
    "colab": {
      "provenance": []
    },
    "kernelspec": {
      "display_name": "Python 3",
      "name": "python3"
    },
    "language_info": {
      "name": "python"
    }
  },
  "nbformat": 4,
  "nbformat_minor": 0
}